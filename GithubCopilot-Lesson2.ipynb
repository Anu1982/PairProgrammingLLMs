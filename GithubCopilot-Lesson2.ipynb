{
 "cells": [
  {
   "cell_type": "markdown",
   "metadata": {},
   "source": [
    "This notebook follows the PairProgramming LLM course, and instead of the models used in this course, the notebook uses Github Copilot capabilities .\n"
   ]
  },
  {
   "cell_type": "code",
   "execution_count": 3,
   "metadata": {},
   "outputs": [],
   "source": [
    "# Create a doubly linked list\n",
    "# Insert comments for each line of code\n",
    "# Run the code and see the output\n",
    "\n",
    "# Create a node class\n",
    "class Node:\n",
    "    # Constructor to initialize the node object\n",
    "    def __init__(self, data):\n",
    "        self.data = data\n",
    "        self.next = None\n",
    "        self.prev = None\n",
    "        \n",
    "# Create a doubly linked list class\n",
    "class DoublyLinkedList:\n",
    "    # Constructor for empty doubly linked list\n",
    "    def __init__(self):\n",
    "        self.head = None\n",
    "        \n",
    "    # Add a node at the front of the doubly linked list\n",
    "    def push(self, new_data):\n",
    "        # Allocate the node and put in the data\n",
    "        new_node = Node(new_data)\n",
    "        \n",
    "        # Make next of new node as head and previous as None\n",
    "        new_node.next = self.head\n",
    "        new_node.prev = None\n",
    "        \n",
    "        # Change prev of head node to new node\n",
    "        if self.head is not None:\n",
    "            self.head.prev = new_node\n",
    "            \n",
    "        # Move the head to point to the new node\n",
    "        self.head = new_node\n",
    "        \n",
    "    # Add a node after a given node\n",
    "    def insertAfter(self, prev_node, new_data):\n",
    "        # Check if the given previous node exists\n",
    "        if prev_node is None:\n",
    "            print(\"The given previous node must not be empty!\")\n",
    "            return\n",
    "        \n",
    "        # Allocate the node and put in the data\n",
    "        \n",
    "        # Make next of new node as next of prev_node\n",
    "        \n"
   ]
  },
  {
   "cell_type": "code",
   "execution_count": 4,
   "metadata": {},
   "outputs": [
    {
     "name": "stdout",
     "output_type": "stream",
     "text": [
      "[18, 7, 21, 22, 12, 19, 15, 20, 9, 11, 25, 19, 16, 3, 16, 10, 13, 26, 19, 28, 18, 29, 12, 2, 21, 12, 8, 14, 15, 11, 15, 19, 4, 23, 15, 16, 23, 2, 19, 30, 7, 20, 1, 11, 10, 1, 16, 7, 15, 2, 23, 15, 9, 11, 12, 14, 16, 2, 7, 8, 10, 2, 5, 22, 29, 28, 10, 25, 15, 21, 2, 17, 30, 12, 22, 22, 20, 30, 14, 23, 22, 2, 18, 22, 6, 7, 16, 16, 21, 20, 8, 4, 27, 24, 29, 23, 9, 6, 30, 20]\n",
      "[1, 1, 2, 2, 2, 2, 2, 2, 2, 3, 4, 4, 5, 6, 6, 7, 7, 7, 7, 7, 8, 8, 8, 9, 9, 9, 10, 10, 10, 10, 11, 11, 11, 11, 12, 12, 12, 12, 12, 13, 14, 14, 14, 15, 15, 15, 15, 15, 15, 15, 16, 16, 16, 16, 16, 16, 16, 17, 18, 18, 18, 19, 19, 19, 19, 19, 20, 20, 20, 20, 20, 21, 21, 21, 21, 22, 22, 22, 22, 22, 22, 23, 23, 23, 23, 23, 24, 25, 25, 26, 27, 28, 28, 29, 29, 29, 30, 30, 30, 30]\n"
     ]
    }
   ],
   "source": [
    "# Create a large list of random numbers, then write code to sort that list\n",
    "\n",
    "# Create a list of random numbers\n",
    "import random\n",
    "randomlist = []\n",
    "for i in range(0,100):\n",
    "    n = random.randint(1,30)\n",
    "    randomlist.append(n)\n",
    "print(randomlist)\n",
    "\n",
    "# Sort the list\n",
    "randomlist.sort()\n",
    "print(randomlist)\n",
    "\n"
   ]
  }
 ],
 "metadata": {
  "kernelspec": {
   "display_name": "Python 3",
   "language": "python",
   "name": "python3"
  },
  "language_info": {
   "codemirror_mode": {
    "name": "ipython",
    "version": 3
   },
   "file_extension": ".py",
   "mimetype": "text/x-python",
   "name": "python",
   "nbconvert_exporter": "python",
   "pygments_lexer": "ipython3",
   "version": "3.9.13"
  },
  "orig_nbformat": 4
 },
 "nbformat": 4,
 "nbformat_minor": 2
}
