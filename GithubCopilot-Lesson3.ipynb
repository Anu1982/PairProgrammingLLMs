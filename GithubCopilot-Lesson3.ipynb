{
 "cells": [
  {
   "cell_type": "markdown",
   "metadata": {},
   "source": [
    "### This notebook creates a game of rock, paper, scissors.\n",
    "\n",
    "The code is written with the help of co-pilot in less than one minute, and works well.\n",
    "\n",
    "\n",
    "\n",
    "\n"
   ]
  },
  {
   "cell_type": "code",
   "execution_count": 4,
   "metadata": {},
   "outputs": [
    {
     "name": "stdout",
     "output_type": "stream",
     "text": [
      "You chose: \n",
      "The computer chose: scissors\n",
      "I don't understand that!\n"
     ]
    }
   ],
   "source": [
    "# Write a program that creates a game of rock, paper, scissors.\n",
    "# The program should randomly choose one of the three options.\n",
    "# Then it should ask the user for their choice.\n",
    "# At the end it should print out who won.\n",
    "# Rock beats scissors, scissors beats paper, paper beats rock.\n",
    "# If both the computer and the user choose the same option, it's a tie.\n",
    "\n",
    "import random\n",
    "\n",
    "# Create a list of options\n",
    "options = [\"rock\", \"paper\", \"scissors\"]\n",
    "\n",
    "# Randomly choose one of the options\n",
    "computer_choice = random.choice(options)\n",
    "\n",
    "# Ask the user for their choice\n",
    "\n",
    "user_choice = input(\"Choose rock, paper, or scissors: \")\n",
    "\n",
    "# Print out who won\n",
    "print(\"You chose:\", user_choice)\n",
    "print(\"The computer chose:\", computer_choice)\n",
    "\n",
    "if user_choice == computer_choice:\n",
    "    print(\"It's a tie!\")\n",
    "elif user_choice == \"rock\":\n",
    "    if computer_choice == \"scissors\":\n",
    "        print(\"You win!\")\n",
    "    else:\n",
    "        print(\"The computer wins!\")\n",
    "elif user_choice == \"paper\":\n",
    "    if computer_choice == \"rock\":\n",
    "        print(\"You win!\")\n",
    "    else:\n",
    "        print(\"The computer wins!\")\n",
    "elif user_choice == \"scissors\":\n",
    "    if computer_choice == \"paper\":\n",
    "        print(\"You win!\")\n",
    "    else:\n",
    "        print(\"The computer wins!\")\n",
    "else:\n",
    "    print(\"I don't understand that!\")\n",
    "    \n",
    "# End of program"
   ]
  }
 ],
 "metadata": {
  "kernelspec": {
   "display_name": "Python 3",
   "language": "python",
   "name": "python3"
  },
  "language_info": {
   "codemirror_mode": {
    "name": "ipython",
    "version": 3
   },
   "file_extension": ".py",
   "mimetype": "text/x-python",
   "name": "python",
   "nbconvert_exporter": "python",
   "pygments_lexer": "ipython3",
   "version": "3.9.13"
  },
  "orig_nbformat": 4
 },
 "nbformat": 4,
 "nbformat_minor": 2
}
